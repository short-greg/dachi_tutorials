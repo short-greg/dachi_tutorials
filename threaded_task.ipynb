{
 "cells": [
  {
   "cell_type": "code",
   "execution_count": 1,
   "id": "1a089b31",
   "metadata": {},
   "outputs": [],
   "source": [
    "import dachi\n",
    "import typing\n",
    "import pydantic\n",
    "from dachi.proc import F\n",
    "from dachi.act import threaded_task\n",
    "from dachi.store import Context\n",
    "from dachi_tutorials.teach.base import OpenAILLM\n",
    "from collections import deque\n",
    "import dachi.asst.openai_asst\n",
    "from dachi.asst.openai_asst import ParsedConv\n",
    "\n",
    "\n"
   ]
  },
  {
   "cell_type": "code",
   "execution_count": 2,
   "id": "df0b3964",
   "metadata": {},
   "outputs": [],
   "source": [
    "\n",
    "class Blackboard(dachi.store.Blackboard):\n",
    "    \n",
    "    queued_synopses: deque = pydantic.Field(default_factory=deque)\n",
    "    synopses: typing.Dict[str, str] = pydantic.Field(default_factory=dict)\n",
    "    evaluations: typing.Dict[str, str] = pydantic.Field(default_factory=dict)\n",
    "    background: str = pydantic.Field(default='')\n",
    "    goal: str = pydantic.Field(default='')\n",
    "\n",
    "blackboard = Blackboard()"
   ]
  },
  {
   "cell_type": "code",
   "execution_count": null,
   "id": "7d9d692a",
   "metadata": {},
   "outputs": [],
   "source": [
    "brainstorm = dachi.store.Shared()\n",
    "op = dachi.asst.Op(\n",
    "    OpenAILLM('gpt-4o-mini', [\n",
    "        dachi.asst.adapt.xopenai.TextConv('content')]\n",
    "    ), dachi.asst.ToText(role='user'), \n",
    "    out='content'\n",
    ")\n",
    "ctx = dachi.store.ContextStorage()"
   ]
  },
  {
   "cell_type": "code",
   "execution_count": 4,
   "id": "f05f9e50",
   "metadata": {},
   "outputs": [],
   "source": [
    "\n",
    "role = \"\"\"\n",
    "You are an excellent team lead for a movie synopsis writing team\n",
    "who prides himself on writing top movie synopses.\n",
    "\"\"\"\n",
    "\n",
    "context = f\"\"\"\n",
    "\n",
    "# Team Goal\n",
    "Write a great story\n",
    "\"\"\"\n",
    "\n",
    "task = threaded_task(F(op, f\"\"\"\n",
    "    {role}\n",
    "\n",
    "    {context}\n",
    "\n",
    "    You need to write a movie synopsis\n",
    "\n",
    "\"\"\", _out=str), ctx.brainstorm, brainstorm)"
   ]
  },
  {
   "cell_type": "code",
   "execution_count": 5,
   "id": "135afc72",
   "metadata": {},
   "outputs": [
    {
     "data": {
      "text/plain": [
       "<TaskStatus.RUNNING: 'running'>"
      ]
     },
     "execution_count": 5,
     "metadata": {},
     "output_type": "execute_result"
    }
   ],
   "source": [
    "task()"
   ]
  },
  {
   "cell_type": "code",
   "execution_count": 6,
   "id": "55688125",
   "metadata": {},
   "outputs": [
    {
     "data": {
      "text/plain": [
       "<TaskStatus.RUNNING: 'running'>"
      ]
     },
     "execution_count": 6,
     "metadata": {},
     "output_type": "execute_result"
    }
   ],
   "source": [
    "task()"
   ]
  },
  {
   "cell_type": "code",
   "execution_count": 7,
   "id": "5d11b7ac",
   "metadata": {},
   "outputs": [
    {
     "data": {
      "text/plain": [
       "<TaskStatus.SUCCESS: 'success'>"
      ]
     },
     "execution_count": 7,
     "metadata": {},
     "output_type": "execute_result"
    }
   ],
   "source": [
    "task()"
   ]
  },
  {
   "cell_type": "code",
   "execution_count": 9,
   "id": "1bd0d0ba",
   "metadata": {},
   "outputs": [
    {
     "data": {
      "text/plain": [
       "'**Movie Title: \"Echoes of Tomorrow\"**\\n\\n**Genre:** Sci-Fi/Drama\\n\\n**Synopsis:**\\n\\nIn a near-future world ravaged by climate change and societal collapse, humanity teeters on the brink of extinction. Amidst this chaos, a brilliant but disillusioned quantum physicist, Dr. Elena Hart, stumbles upon a groundbreaking discovery: a technology that allows individuals to send their consciousness back in time for brief moments, providing them the chance to alter critical decisions and reshape their future.\\n\\nHaunted by guilt over her estranged father’s death during the early years of the crisis, Elena becomes fixated on using her invention to change her past. As she embarks on this deeply personal journey, she inadvertently attracts the attention of a shadowy organization that seeks to weaponize her technology for their own gain. Alongside her estranged childhood friend, Marcus, a resourceful activist determined to save the future, they must navigate their tumultuous emotions and face the ethical implications of time travel.\\n\\nAs Elena repeatedly plunges into her own timeline, she confronts the intricate web of choices that led to her present. Each trip reveals not only the pain of her past but also glimpses of alternate realities where humanity has forged a different path, bearing witness to both hope and despair. Just as she begins to understand the answer to her father’s fate and her own guilt, the organization closes in, threatening to leverage her creation for mass control.\\n\\nIn a heart-wrenching climax, Elena must choose between saving her father and the lives of countless others who depend on the fragile hope for a better future. As she faces the ultimate moral dilemma of sacrificing personal grief for humanity\\'s chance at redemption, \"Echoes of Tomorrow\" weaves a tapestry of love, loss, and the relentless pursuit of second chances.\\n\\nWill Elena choose to rewrite her past, or can she accept the painful lessons learned and fight for a more promising tomorrow? The answers lie within the echoes of her own heart.'"
      ]
     },
     "execution_count": 9,
     "metadata": {},
     "output_type": "execute_result"
    }
   ],
   "source": [
    "brainstorm.data\n",
    "#  print(ctx.brainstorm['error'])"
   ]
  }
 ],
 "metadata": {
  "kernelspec": {
   "display_name": "dachi",
   "language": "python",
   "name": "python3"
  },
  "language_info": {
   "codemirror_mode": {
    "name": "ipython",
    "version": 3
   },
   "file_extension": ".py",
   "mimetype": "text/x-python",
   "name": "python",
   "nbconvert_exporter": "python",
   "pygments_lexer": "ipython3",
   "version": "3.12.7"
  }
 },
 "nbformat": 4,
 "nbformat_minor": 5
}
