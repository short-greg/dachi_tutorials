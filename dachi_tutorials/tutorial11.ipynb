{
 "cells": [
  {
   "cell_type": "code",
   "execution_count": null,
   "id": "4e8f5c62",
   "metadata": {},
   "outputs": [],
   "source": [
    "from teach import base\n",
    "from dachi.msg import ToolDef, ToolBuilder, ToolCall, make_tool_defs\n",
    "from dachi.adapt.xopenai import TextConv, ToolConv\n",
    "import dachi\n",
    "\n"
   ]
  },
  {
   "cell_type": "code",
   "execution_count": 2,
   "id": "b685f2bc",
   "metadata": {},
   "outputs": [],
   "source": [
    "\n",
    "\n",
    "def search_website(query: str, site: str = \"example.com\", max_results: int = 5) -> list[str]:\n",
    "    \"\"\"\n",
    "    Perform a keyword search on a given website.\n",
    "\n",
    "    Returns a list of result titles.\n",
    "    \"\"\"\n",
    "    # Dummy results for testing\n",
    "    return [f\"Result {i+1} for '{query}' on {site}\" for i in range(max_results)]\n"
   ]
  },
  {
   "cell_type": "code",
   "execution_count": null,
   "id": "580b6997",
   "metadata": {},
   "outputs": [],
   "source": [
    "\n"
   ]
  },
  {
   "cell_type": "code",
   "execution_count": 3,
   "id": "e380eabf",
   "metadata": {},
   "outputs": [],
   "source": [
    "import math\n",
    "\n",
    "def area_triangle(base: float, height: float) -> float:\n",
    "    \"\"\"Calculate the area of a triangle given its base and height.\"\"\"\n",
    "    return 0.5 * base * height\n",
    "\n",
    "\n",
    "def area_rectangle(width: float, height: float) -> float:\n",
    "    \"\"\"Calculate the area of a rectangle given its width and height.\"\"\"\n",
    "    return width * height\n",
    "\n",
    "\n",
    "def area_circle(radius: float) -> float:\n",
    "    \"\"\"Calculate the area of a circle given its radius.\"\"\"\n",
    "    return math.pi * radius ** 2\n",
    "\n",
    "\n",
    "def area_ellipse(a: float, b: float) -> float:\n",
    "    \"\"\"Calculate the area of an ellipse given semi-major axis a and semi-minor axis b.\"\"\"\n",
    "    return math.pi * a * b\n",
    "\n",
    "\n",
    "def area_trapezoid(a: float, b: float, height: float) -> float:\n",
    "    \"\"\"Calculate the area of a trapezoid given bases a and b and height.\"\"\"\n",
    "    return 0.5 * (a + b) * height"
   ]
  },
  {
   "cell_type": "code",
   "execution_count": 4,
   "id": "4e501898",
   "metadata": {},
   "outputs": [],
   "source": [
    "\n",
    "tools = make_tool_defs(\n",
    "    area_rectangle, area_circle, area_ellipse, area_trapezoid\n",
    ")\n",
    "\n",
    "llm = base.OpenAILLM(\n",
    "    procs=[TextConv(), ToolConv(tools, run_call=True)]\n",
    ")"
   ]
  },
  {
   "cell_type": "code",
   "execution_count": 5,
   "id": "f482d86c",
   "metadata": {},
   "outputs": [],
   "source": [
    "msg = dachi.msg.Msg(\n",
    "    role='user', content='What is the area of an ellipse and a rectangle with a with of 4 and a heigh of 3.5'\n",
    ")"
   ]
  },
  {
   "cell_type": "code",
   "execution_count": 6,
   "id": "7d9570c8",
   "metadata": {},
   "outputs": [],
   "source": [
    "result = llm.forward([msg])"
   ]
  },
  {
   "cell_type": "code",
   "execution_count": 7,
   "id": "1e128232",
   "metadata": {},
   "outputs": [
    {
     "name": "stdout",
     "output_type": "stream",
     "text": [
      "43.982297150257104 14.0\n"
     ]
    }
   ],
   "source": [
    "print(\n",
    "    result.m['tools'][0].result,\n",
    "    result.m['tools'][1].result\n",
    ")\n",
    "\n",
    "# result.m['tools'][1]()\n"
   ]
  },
  {
   "cell_type": "code",
   "execution_count": 8,
   "id": "927378a9",
   "metadata": {},
   "outputs": [
    {
     "data": {
      "text/plain": [
       "{'role': 'assistant',\n",
       " '_include_role': True,\n",
       " 'type_': 'data',\n",
       " 'meta': {'response': ChatCompletion(id='chatcmpl-BVvsYITO0LFpPKq5Fxib17mcGH7ao', choices=[Choice(finish_reason='tool_calls', index=0, logprobs=None, message=ChatCompletionMessage(content=None, refusal=None, role='assistant', audio=None, function_call=None, tool_calls=[ChatCompletionMessageToolCall(id='call_bs2mXCdku7vDljJgvCs2URjN', function=Function(arguments='{\"width\": 4, \"height\": 3.5}', name='area_rectangle'), type='function'), ChatCompletionMessageToolCall(id='call_msS3p6yUfaPN7RFrEhEUtyx3', function=Function(arguments='{\"a\": 4, \"b\": 3.5}', name='area_ellipse'), type='function')], annotations=[]))], created=1746950354, model='gpt-4o-mini-2024-07-18', object='chat.completion', service_tier='default', system_fingerprint='fp_dbaca60df0', usage=CompletionUsage(completion_tokens=58, prompt_tokens=227, total_tokens=285, completion_tokens_details=CompletionTokensDetails(audio_tokens=0, reasoning_tokens=0, accepted_prediction_tokens=0, rejected_prediction_tokens=0), prompt_tokens_details=PromptTokensDetails(audio_tokens=0, cached_tokens=0))),\n",
       "  'content': None,\n",
       "  'tools': [ToolCall(tool_id='call_bs2mXCdku7vDljJgvCs2URjN', option=ToolDef(name='area_rectangle', description='Calculate the area of a rectangle given its width and height.', fn=<function area_rectangle at 0x169254860>, input_model=<class 'dachi.msg._tool.Area_RectangleInputs'>, return_type=<class 'float'>, version=None), inputs=Area_RectangleInputs(width=4.0, height=3.5), result=14.0, option_text=None),\n",
       "   ToolCall(tool_id='call_msS3p6yUfaPN7RFrEhEUtyx3', option=ToolDef(name='area_ellipse', description='Calculate the area of an ellipse given semi-major axis a and semi-minor axis b.', fn=<function area_ellipse at 0x169254a40>, input_model=<class 'dachi.msg._tool.Area_EllipseInputs'>, return_type=<class 'float'>, version=None), inputs=Area_EllipseInputs(a=4.0, b=3.5), result=43.982297150257104, option_text=None)]},\n",
       " 'delta': {},\n",
       " 'follow_up': [{'role': 'tool',\n",
       "   '_include_role': True,\n",
       "   'type_': 'data',\n",
       "   'meta': {},\n",
       "   'delta': {},\n",
       "   'content': '14.0',\n",
       "   'tool_call_id': 'call_bs2mXCdku7vDljJgvCs2URjN',\n",
       "   'name': 'area_rectangle',\n",
       "   'follow_up': [],\n",
       "   'filtered': False},\n",
       "  {'role': 'tool',\n",
       "   '_include_role': True,\n",
       "   'type_': 'data',\n",
       "   'meta': {},\n",
       "   'delta': {},\n",
       "   'content': '43.982297150257104',\n",
       "   'tool_call_id': 'call_msS3p6yUfaPN7RFrEhEUtyx3',\n",
       "   'name': 'area_ellipse',\n",
       "   'follow_up': [],\n",
       "   'filtered': False}],\n",
       " 'filtered': False,\n",
       " 'content': '',\n",
       " 'tool_calls': [{'id': 'call_bs2mXCdku7vDljJgvCs2URjN',\n",
       "   'function': {'arguments': '{\"width\": 4, \"height\": 3.5}',\n",
       "    'name': 'area_rectangle'},\n",
       "   'type': 'function'},\n",
       "  {'id': 'call_msS3p6yUfaPN7RFrEhEUtyx3',\n",
       "   'function': {'arguments': '{\"a\": 4, \"b\": 3.5}', 'name': 'area_ellipse'},\n",
       "   'type': 'function'}]}"
      ]
     },
     "execution_count": 8,
     "metadata": {},
     "output_type": "execute_result"
    }
   ],
   "source": [
    "result"
   ]
  },
  {
   "cell_type": "code",
   "execution_count": 7,
   "id": "6a111b3e",
   "metadata": {},
   "outputs": [],
   "source": [
    "op = dachi.asst.Op(\n",
    "    llm, dachi.msg.ToText(), 'content', follow_up=True\n",
    ")"
   ]
  },
  {
   "cell_type": "code",
   "execution_count": 8,
   "id": "e56d2a15",
   "metadata": {},
   "outputs": [
    {
     "data": {
      "text/plain": [
       "'The area of the rectangle is approximately \\\\( 25.9712 \\\\) square units, and the area of the ellipse is approximately \\\\( 81.5909 \\\\) square units.'"
      ]
     },
     "execution_count": 8,
     "metadata": {},
     "output_type": "execute_result"
    }
   ],
   "source": [
    "op('What is the area of an ellipse and a rectangle with a with of 3.2 and a height of 8.116')"
   ]
  }
 ],
 "metadata": {
  "kernelspec": {
   "display_name": "dachi",
   "language": "python",
   "name": "python3"
  },
  "language_info": {
   "codemirror_mode": {
    "name": "ipython",
    "version": 3
   },
   "file_extension": ".py",
   "mimetype": "text/x-python",
   "name": "python",
   "nbconvert_exporter": "python",
   "pygments_lexer": "ipython3",
   "version": "3.12.7"
  }
 },
 "nbformat": 4,
 "nbformat_minor": 5
}
